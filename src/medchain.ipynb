{
 "cells": [
  {
   "cell_type": "markdown",
   "metadata": {},
   "source": [
    "# <center><font color='#333333'>TechCrunch Shen Zhen Hackathon</font></center>\n",
    "## <center><font color='#808080'>Ontology Challenge</font></center>\n",
    "### <center><font color='#3b5998'>Created by cyda - Yeung Wong & Carrie Lo</font></center>"
   ]
  },
  {
   "cell_type": "markdown",
   "metadata": {},
   "source": [
    "--------------------------------------------------------------------------------------\n",
    "![logo](https://4.bp.blogspot.com/-LAXjdvVCYCU/WxeQFKQ-1wI/AAAAAAAAACs/o8IJ1eLLAEwQYv2Az7EqQi9jODTqRx7wACK4BGAYYCw/s1000/tight%2Bbanner_with_description.png)"
   ]
  },
  {
   "cell_type": "markdown",
   "metadata": {},
   "source": [
    "--------------------------------------------------------------------------------------\n",
    "Please acknowledge <b>team cyda - Yeung Wong and Carrie Lo</b> when using the code\n",
    "\n",
    "<b><font color='#3b5998'>If you find this script is helpful, please feel free to endorse us through Linkedin!</font></b>\n",
    "\n",
    "<b>Linkedin:</b>\n",
    "\n",
    "Yeung Wong - https://www.linkedin.com/in/yeungwong/\n",
    "\n",
    "Carrie Lo - https://www.linkedin.com/in/carrielsc/"
   ]
  },
  {
   "cell_type": "markdown",
   "metadata": {},
   "source": [
    "## Application"
   ]
  },
  {
   "cell_type": "code",
   "execution_count": 1,
   "metadata": {},
   "outputs": [
    {
     "ename": "ModuleNotFoundError",
     "evalue": "No module named 'face_recognition'",
     "output_type": "error",
     "traceback": [
      "\u001b[1;31m---------------------------------------------------------------------------\u001b[0m",
      "\u001b[1;31mModuleNotFoundError\u001b[0m                       Traceback (most recent call last)",
      "\u001b[1;32m<ipython-input-1-9c574de586ee>\u001b[0m in \u001b[0;36m<module>\u001b[1;34m\u001b[0m\n\u001b[1;32m----> 1\u001b[1;33m \u001b[1;32mimport\u001b[0m \u001b[0mface_recognition\u001b[0m\u001b[1;33m\u001b[0m\u001b[0m\n\u001b[0m\u001b[0;32m      2\u001b[0m \u001b[1;32mimport\u001b[0m \u001b[0mcv2\u001b[0m\u001b[1;33m\u001b[0m\u001b[0m\n\u001b[0;32m      3\u001b[0m \u001b[0mvideo_capture\u001b[0m \u001b[1;33m=\u001b[0m \u001b[0mcv2\u001b[0m\u001b[1;33m.\u001b[0m\u001b[0mVideoCapture\u001b[0m\u001b[1;33m(\u001b[0m\u001b[1;36m0\u001b[0m\u001b[1;33m)\u001b[0m\u001b[1;33m\u001b[0m\u001b[0m\n\u001b[0;32m      4\u001b[0m \u001b[0mvalid_image\u001b[0m \u001b[1;33m=\u001b[0m \u001b[0mface_recognition\u001b[0m\u001b[1;33m.\u001b[0m\u001b[0mload_image_file\u001b[0m\u001b[1;33m(\u001b[0m\u001b[1;34m\"valid.jpg\"\u001b[0m\u001b[1;33m)\u001b[0m\u001b[1;33m\u001b[0m\u001b[0m\n\u001b[0;32m      5\u001b[0m \u001b[0mvalid_face_encoding\u001b[0m \u001b[1;33m=\u001b[0m \u001b[0mface_recognition\u001b[0m\u001b[1;33m.\u001b[0m\u001b[0mface_encodings\u001b[0m\u001b[1;33m(\u001b[0m\u001b[0mvalid_image\u001b[0m\u001b[1;33m)\u001b[0m\u001b[1;33m[\u001b[0m\u001b[1;36m0\u001b[0m\u001b[1;33m]\u001b[0m\u001b[1;33m\u001b[0m\u001b[0m\n",
      "\u001b[1;31mModuleNotFoundError\u001b[0m: No module named 'face_recognition'"
     ]
    }
   ],
   "source": [
    "import face_recognition\n",
    "import cv2\n",
    "video_capture = cv2.VideoCapture(0)\n",
    "valid_image = face_recognition.load_image_file(\"valid.jpg\")\n",
    "valid_face_encoding = face_recognition.face_encodings(valid_image)[0]\n",
    "known_face_encodings = [valid_face_encoding]\n",
    "known_face_names = [\"Valid\"]\n",
    "face_locations = []\n",
    "face_encodings = []\n",
    "face_names = []\n",
    "process_this_frame = True\n",
    "while True:\n",
    "    ret, frame = video_capture.read()\n",
    "    small_frame = cv2.resize(frame, (0, 0), fx=0.25, fy=0.25)\n",
    "    rgb_small_frame = small_frame[:, :, ::-1]\n",
    "    if process_this_frame:\n",
    "        face_locations = face_recognition.face_locations(rgb_small_frame)\n",
    "        face_encodings = face_recognition.face_encodings(rgb_small_frame, face_locations)\n",
    "        face_names = []\n",
    "        for face_encoding in face_encodings:\n",
    "            matches = face_recognition.compare_faces(known_face_encodings, face_encoding)\n",
    "            name = \"Unknown\"\n",
    "            if True in matches:\n",
    "                first_match_index = matches.index(True)\n",
    "                name = known_face_names[first_match_index]\n",
    "            face_names.append(name)\n",
    "    process_this_frame = not process_this_frame\n",
    "    for (top, right, bottom, left), name in zip(face_locations, face_names):\n",
    "        top *= 4\n",
    "        right *= 4\n",
    "        bottom *= 4\n",
    "        left *= 4\n",
    "        cv2.rectangle(frame, (left, top), (right, bottom), (0, 0, 255), 2)\n",
    "        cv2.rectangle(frame, (left, bottom - 35), (right, bottom), (0, 0, 255), cv2.FILLED)\n",
    "        font = cv2.FONT_HERSHEY_DUPLEX\n",
    "        cv2.putText(frame, name, (left + 6, bottom - 6), font, 1.0, (255, 255, 255), 1)\n",
    "    cv2.imshow('Video', frame)\n",
    "    if cv2.waitKey(1) & 0xFF == ord('q'):\n",
    "        break\n",
    "video_capture.release()\n",
    "cv2.destroyAllWindows()"
   ]
  },
  {
   "cell_type": "markdown",
   "metadata": {},
   "source": [
    "## Blockchain"
   ]
  },
  {
   "cell_type": "code",
   "execution_count": null,
   "metadata": {},
   "outputs": [],
   "source": [
    "import os\n",
    "import binascii\n",
    "from ontology.smart_contract.neo_contract.abi.abi_info import AbiInfo\n",
    "from ontology.ont_sdk import OntologySdk\n",
    "from ontology.wallet.wallet_manager import WalletManager\n",
    "from ontology.account.account import Account\n",
    "dict_abi = {\"contractHash\":\"8bc0f46814f436cfb2ffe7bf95ad61e6db0db213\",\"abi\":{\"functions\":[{\"name\":\"Main\",\"parameters\":[{\"name\":\"operation\",\"type\":\"\"},{\"name\":\"args\",\"type\":\"\"}],\"returntype\":\"\"},{\"name\":\"Save_Manufacture_Data\",\"parameters\":[{\"name\":\"manufacture_date\",\"type\":\"\"},{\"name\":\"manufacture_time\",\"type\":\"\"},{\"name\":\"manufacture_origin\",\"type\":\"\"},{\"name\":\"manufacture_company\",\"type\":\"\"},{\"name\":\"manufacture_people\",\"type\":\"\"},{\"name\":\"manufacture_medicine_name\",\"type\":\"\"},{\"name\":\"manufacture_expiry_date\",\"type\":\"\"},{\"name\":\"manufacture_ingredient1\",\"type\":\"\"},{\"name\":\"manufacture_amount1\",\"type\":\"\"},{\"name\":\"manufacture_ingredient2\",\"type\":\"\"},{\"name\":\"manufacture_amount2\",\"type\":\"\"},{\"name\":\"manufacture_ingredient3\",\"type\":\"\"},{\"name\":\"manufacture_amount3\",\"type\":\"\"},{\"name\":\"manufacture_ingredient4\",\"type\":\"\"},{\"name\":\"manufacture_amount4\",\"type\":\"\"},{\"name\":\"manufacture_ingredient5\",\"type\":\"\"},{\"name\":\"manufacture_amount5\",\"type\":\"\"},{\"name\":\"manufacture_ingredient6\",\"type\":\"\"},{\"name\":\"manufacture_amount6\",\"type\":\"\"},{\"name\":\"manufacture_ingredient7\",\"type\":\"\"},{\"name\":\"manufacture_amount7\",\"type\":\"\"},{\"name\":\"manufacture_ingredient8\",\"type\":\"\"},{\"name\":\"manufacture_amount8\",\"type\":\"\"}],\"returntype\":\"\"},{\"name\":\"Get_Manufacture_Data\",\"parameters\":[{\"name\":\"\",\"type\":\"\"}],\"returntype\":\"\"},{\"name\":\"Save_Storage_Data\",\"parameters\":[{\"name\":\"storage_location\",\"type\":\"\"},{\"name\":\"storage_condition\",\"type\":\"\"},{\"name\":\"storage_temperature\",\"type\":\"\"},{\"name\":\"storage_humidity\",\"type\":\"\"},{\"name\":\"storage_warehouse\",\"type\":\"\"},{\"name\":\"storage_start_date\",\"type\":\"\"},{\"name\":\"storage_end_date\",\"type\":\"\"}],\"returntype\":\"\"},{\"name\":\"Get_Storage_Data\",\"parameters\":[{\"name\":\"\",\"type\":\"\"}],\"returntype\":\"\"},{\"name\":\"Save_Logistics_Data\",\"parameters\":[{\"name\":\"logistics_ship_company\",\"type\":\"\"},{\"name\":\"logistics_ship_model\",\"type\":\"\"},{\"name\":\"logistics_ship_date\",\"type\":\"\"},{\"name\":\"logistics_arrive_date\",\"type\":\"\"},{\"name\":\"logistics_origin\",\"type\":\"\"},{\"name\":\"logistics_destination\",\"type\":\"\"}],\"returntype\":\"\"},{\"name\":\"Get_Logistics_Data\",\"parameters\":[{\"name\":\"\",\"type\":\"\"}],\"returntype\":\"\"},{\"name\":\"Save_Distribution_Data\",\"parameters\":[{\"name\":\"distribution_date\",\"type\":\"\"},{\"name\":\"distribution_time\",\"type\":\"\"},{\"name\":\"distribution_company\",\"type\":\"\"},{\"name\":\"distribution_people\",\"type\":\"\"},{\"name\":\"distribution_buyer\",\"type\":\"\"},{\"name\":\"distribution_amount\",\"type\":\"\"}],\"returntype\":\"\"},{\"name\":\"Get_Distribution_Data\",\"parameters\":[{\"name\":\"\",\"type\":\"\"}],\"returntype\":\"\"}]}}\n",
    "abi_info = AbiInfo(dict_abi['contractHash'], dict_abi.get('entrypoint',''), dict_abi['abi']['functions'], dict_abi.get('events',''))\n",
    "manufacture_date = '3 Aug 2017'\n",
    "manufacture_time = '11:03 A.M.'\n",
    "manufacture_origin = 'India'\n",
    "manufacture_company = 'Getwell Oncology'\n",
    "manufacture_people = 'Machon Christ'\n",
    "manufacture_medicine_name = 'Gefitinib Tablets IP'\n",
    "manufacture_expiry_date = '20 Nov 2025'\n",
    "manufacture_ingredient1 = 'Gardasil'\n",
    "manufacture_amount1 = '0.225mg'\n",
    "manufacture_ingredient2 = 'Thiomersal'\n",
    "manufacture_amount2 = '0.103mg'\n",
    "manufacture_ingredient3 = 'Human Serum Albumin'\n",
    "manufacture_amount3 = '0.097mg'\n",
    "manufacture_ingredient4 = 'Recombinant human serum albumin'\n",
    "manufacture_amount4 = '0.093mg'\n",
    "manufacture_ingredient5 = 'Gelatine'\n",
    "manufacture_amount5 = '0.076mg'\n",
    "manufacture_ingredient6 = 'Monosodium glutamate'\n",
    "manufacture_amount6 = '0.054mg'\n",
    "manufacture_ingredient7 = 'Ovalbumin'\n",
    "manufacture_amount7 = '0.023mg'\n",
    "manufacture_ingredient8 = 'Sorbitol and other stabilisers'\n",
    "manufacture_amount8 = '0.009mg'\n",
    "storage_location = 'Caloni District, India'\n",
    "storage_condition = 'Good'\n",
    "storage_temperature = '23 degree celsius'\n",
    "storage_humidity = '65%'\n",
    "storage_warehouse = 'Onergy Max. Ltd.'\n",
    "storage_start_date = '4 Aug 2017'\n",
    "storage_end_date = '17 Oct 2017'\n",
    "logistics_ship_company = 'Seagull Shipping Ltd.'\n",
    "logistics_ship_model = 'KX438'\n",
    "logistics_ship_date = '17 Oct 2017'\n",
    "logistics_arrive_date = '28 Dec 2017'\n",
    "logistics_origin = 'Varoni Harbor, India'\n",
    "logistics_destination = 'Shen Zhen Harbor, China'\n",
    "distribution_date = '18 Nov 2018'\n",
    "distribution_time = '14:23 P.M.'\n",
    "distribution_company = 'Tai Sin Medicine Ltd.'\n",
    "distribution_people = 'Chan Tai Fung'\n",
    "distribution_buyer = 'Mr. Piglet'\n",
    "distribution_amount = 'RMB $5400.00'\n",
    "save_manufacture_func = abi_info.get_function('Save_Manufacture_Data')\n",
    "save_manufacture_func.set_params_value((manufacture_date,manufacture_time,manufacture_origin,manufacture_company,manufacture_people,manufacture_medicine_name,manufacture_expiry_date,manufacture_ingredient1,manufacture_amount1,manufacture_ingredient2,manufacture_amount2,manufacture_ingredient3,manufacture_amount3,manufacture_ingredient4,manufacture_amount4,manufacture_ingredient5,manufacture_amount5,manufacture_ingredient6,manufacture_amount6,manufacture_ingredient7,manufacture_amount7,manufacture_ingredient8,manufacture_amount8))\n",
    "save_storage_func = abi_info.get_function('Save_Storage_Data')\n",
    "save_storage_func.set_params_value((storage_location,storage_condition,storage_temperature,storage_humidity,storage_warehouse,storage_start_date,storage_end_date))\n",
    "save_logistics_func = abi_info.get_function('Save_Logistics_Data')\n",
    "save_logistics_func.set_params_value((logistics_ship_company,logistics_ship_model,logistics_ship_date,logistics_arrive_date,logistics_origin,logistics_destination))\n",
    "save_distribution_func = abi_info.get_function('Save_Distribution_Data')\n",
    "save_distribution_func.set_params_value((distribution_date,distribution_time,distribution_company,distribution_people,distribution_buyer,distribution_amount))\n",
    "acct = Account('f7bfe8f8ed0cf33a2321bbbdd0c621ef2826d22d16d087a950a2a8f57a128239')\n",
    "rpc_address = 'http://polaris3.ont.io:20336'\n",
    "sdk = OntologySdk()\n",
    "sdk.rpc.set_address(rpc_address)\n",
    "contract_address_hex = b'8bc0f46814f436cfb2ffe7bf95ad61e6db0db213'\n",
    "contract_address_bytearray=bytearray(binascii.a2b_hex(contract_address_hex))\n",
    "contract_address_bytearray.reverse()\n",
    "gas_limit=20000000\n",
    "gas_price=500\n",
    "manufacture_tx_hash = sdk.neo_vm().send_transaction(contract_address_bytearray,acct,acct,gas_limit,gas_price,save_manufacture_func,False)\n",
    "print(manufacture_tx_hash)\n",
    "sdk.rpc.get_smart_contract_event_by_tx_hash(manufacture_tx_hash)\n",
    "storage_tx_hash = sdk.neo_vm().send_transaction(contract_address_bytearray,acct,acct,gas_limit,gas_price,save_storage_func,False)\n",
    "print(storage_tx_hash)\n",
    "sdk.rpc.get_smart_contract_event_by_tx_hash(storage_tx_hash)\n",
    "logistics_tx_hash = sdk.neo_vm().send_transaction(contract_address_bytearray,acct,acct,gas_limit,gas_price,save_logistics_func,False)\n",
    "print(logistics_tx_hash)\n",
    "sdk.rpc.get_smart_contract_event_by_tx_hash(logistics_tx_hash)\n",
    "distribution_tx_hash = sdk.neo_vm().send_transaction(contract_address_bytearray,acct,acct,gas_limit,gas_price,save_distribution_func,False)\n",
    "print(distribution_tx_hash)\n",
    "sdk.rpc.get_smart_contract_event_by_tx_hash(distribution_tx_hash)"
   ]
  }
 ],
 "metadata": {
  "kernelspec": {
   "display_name": "Python 3",
   "language": "python",
   "name": "python3"
  },
  "language_info": {
   "codemirror_mode": {
    "name": "ipython",
    "version": 3
   },
   "file_extension": ".py",
   "mimetype": "text/x-python",
   "name": "python",
   "nbconvert_exporter": "python",
   "pygments_lexer": "ipython3",
   "version": "3.7.0"
  }
 },
 "nbformat": 4,
 "nbformat_minor": 2
}
